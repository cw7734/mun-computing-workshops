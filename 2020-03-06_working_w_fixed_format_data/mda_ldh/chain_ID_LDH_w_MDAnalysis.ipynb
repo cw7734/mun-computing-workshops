{
 "cells": [
  {
   "cell_type": "code",
   "execution_count": 1,
   "metadata": {},
   "outputs": [],
   "source": [
    "import MDAnalysis as mda"
   ]
  },
  {
   "cell_type": "markdown",
   "metadata": {},
   "source": [
    "# Assigning PDB Chain-IDs based on Topology within TPR file\n",
    "\n",
    "A Gromacs TPR files contains the topology information of a system,including the chains.\n",
    "\n",
    "MDAnalysis can read and interpret numerous file types, including PDB, GRO, TPR, TRR and XTC.\n",
    "\n",
    "### Prepartions\n",
    "\n",
    "* first generate LDH tetramer with Jmol:\n",
    "```\n",
    "load =3LDH filter \"Biomolecule 1\";\n",
    "select protein;\n",
    "write \"3ldh_raw.pdb\"\n",
    "```\n",
    "* next run through pdb2gmx, genbox and grompp:\n",
    "```bash\n",
    "# download minim.mdp from Justin Lemkul Lysozyme tutorial:\n",
    "wget http://www.mdtutorials.com/gmx/lysozyme/Files/minim.mdp\n",
    "gmx pdb2gmx -f 3ldh_raw.pdb -o LDH_oplsaa.pdb  -ff oplsaa -water tip3p\n",
    "gmx editconf -f LDH_oplsaa.pdb -o LDH_oplsaa_box.pdb -c -d 1.0 -bt cubic\n",
    "gmx grompp -f minim.mdp -c LDH_oplsaa_box.pdb -p topol.top -o ldh.tpr\n",
    "```\n",
    "\n",
    "\n",
    "### Procedure\n",
    "\n",
    "* Read topology from TPR file `ldh.tpr`  \n",
    "  (protein consisting of 4 chains, OPLS-AA forcefield, \n",
    "  with box information, used a minim.mdp)\n",
    "* Read coordinates for \"frame 0\" from `LDH_oplsaa_box.pdb` \n",
    "  (the PDB from which the TPR was generated; could use a `.gro` as well)\n",
    "* generate a list `chain_ids` of possible Chain-IDs (A-Z)\n",
    "* Loop over \"segments\" (chains) in the Universe\n",
    "  * `segindex` is a 0-based index of the current segment\n",
    "  * `segid` is a (string) segment-ID\n",
    "  * use segindex to select a single-letter chain-ID from the `chain_ids` list\n",
    "    and assign it to `segid`\n",
    "* write PDB file `ldh_fixed_chainIDs.pdb` with fixed chain-IDs."
   ]
  },
  {
   "cell_type": "code",
   "execution_count": 2,
   "metadata": {},
   "outputs": [
    {
     "name": "stdout",
     "output_type": "stream",
     "text": [
      "ldh.tpr\r\n"
     ]
    }
   ],
   "source": [
    "%ls *.tpr"
   ]
  },
  {
   "cell_type": "code",
   "execution_count": 3,
   "metadata": {},
   "outputs": [],
   "source": [
    "# Read Universe from tpr (topology) and PDB (coordinates)\n",
    "u = mda.Universe('ldh.tpr', 'LDH_oplsaa_box.pdb')"
   ]
  },
  {
   "cell_type": "code",
   "execution_count": 4,
   "metadata": {},
   "outputs": [
    {
     "name": "stdout",
     "output_type": "stream",
     "text": [
      "<Universe with 20616 atoms>\n",
      "<ResidueGroup [<Residue THR, 0>, <Residue ALA, 1>, <Residue LEU, 2>, ..., <Residue LEU, 1313>, <Residue LYS, 1314>, <Residue PHE, 1315>]>\n",
      "<SegmentGroup [<Segment seg_0_Protein_chain_A>, <Segment seg_1_Protein_chain_A2>, <Segment seg_2_Protein_chain_A3>, <Segment seg_3_Protein_chain_A4>]>\n"
     ]
    }
   ],
   "source": [
    "# explore the Universe object\n",
    "print(u)\n",
    "print(u.residues)\n",
    "print(u.segments)"
   ]
  },
  {
   "cell_type": "code",
   "execution_count": 5,
   "metadata": {},
   "outputs": [
    {
     "name": "stdout",
     "output_type": "stream",
     "text": [
      "before:   segindex: 0  segid: seg_0_Protein_chain_A\n",
      "after:    segindex: 0  segid: A\n",
      "\n",
      "before:   segindex: 1  segid: seg_1_Protein_chain_A2\n",
      "after:    segindex: 1  segid: B\n",
      "\n",
      "before:   segindex: 2  segid: seg_2_Protein_chain_A3\n",
      "after:    segindex: 2  segid: C\n",
      "\n",
      "before:   segindex: 3  segid: seg_3_Protein_chain_A4\n",
      "after:    segindex: 3  segid: D\n",
      "\n"
     ]
    }
   ],
   "source": [
    "# list of  Chain-IDs (A-Z)\n",
    "chain_ids= [ 'A', 'B', 'C', 'D', 'E', 'F', 'G', 'H', 'I', 'J', \n",
    "             'K', 'L', 'M', 'N', 'O', 'P', 'Q', 'R', 'S', 'T',\n",
    "             'U', 'V', 'W', 'X', 'Y', 'Z' ]\n",
    "\n",
    "# loop over segments (chains)\n",
    "for seg in u.segments:\n",
    "    print(\"before:   segindex: {}  segid: {}\".format(seg.segindex, seg.segid))\n",
    "    \n",
    "    # assign chainID to current segment\n",
    "    seg.segid = chain_ids[ seg.segindex ]\n",
    "\n",
    "    print(\"after:    segindex: {}  segid: {}\\n\".format(seg.segindex, seg.segid))\n"
   ]
  },
  {
   "cell_type": "code",
   "execution_count": 6,
   "metadata": {},
   "outputs": [
    {
     "name": "stderr",
     "output_type": "stream",
     "text": [
      "/home/ostueker/.local/anaconda3/envs/mda/lib/python3.7/site-packages/MDAnalysis/coordinates/PDB.py:916: UserWarning: Found no information for attr: 'altLocs' Using default value of ' '\n",
      "  \"\".format(attrname, default))\n",
      "/home/ostueker/.local/anaconda3/envs/mda/lib/python3.7/site-packages/MDAnalysis/coordinates/PDB.py:916: UserWarning: Found no information for attr: 'icodes' Using default value of ' '\n",
      "  \"\".format(attrname, default))\n",
      "/home/ostueker/.local/anaconda3/envs/mda/lib/python3.7/site-packages/MDAnalysis/coordinates/PDB.py:916: UserWarning: Found no information for attr: 'occupancies' Using default value of '1.0'\n",
      "  \"\".format(attrname, default))\n",
      "/home/ostueker/.local/anaconda3/envs/mda/lib/python3.7/site-packages/MDAnalysis/coordinates/PDB.py:916: UserWarning: Found no information for attr: 'tempfactors' Using default value of '0.0'\n",
      "  \"\".format(attrname, default))\n"
     ]
    }
   ],
   "source": [
    "# export fixed structure to PDB file\n",
    "u.atoms.write(\"ldh_fixed_chainIDs.pdb\")"
   ]
  },
  {
   "cell_type": "code",
   "execution_count": null,
   "metadata": {},
   "outputs": [],
   "source": []
  }
 ],
 "metadata": {
  "kernelspec": {
   "display_name": "Python 3.7 MDAnalysis (mda)",
   "language": "python",
   "name": "mda"
  },
  "language_info": {
   "codemirror_mode": {
    "name": "ipython",
    "version": 3
   },
   "file_extension": ".py",
   "mimetype": "text/x-python",
   "name": "python",
   "nbconvert_exporter": "python",
   "pygments_lexer": "ipython3",
   "version": "3.7.3"
  }
 },
 "nbformat": 4,
 "nbformat_minor": 2
}
