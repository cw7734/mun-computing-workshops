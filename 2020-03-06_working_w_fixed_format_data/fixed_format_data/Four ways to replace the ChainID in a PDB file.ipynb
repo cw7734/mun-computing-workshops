{
 "cells": [
  {
   "cell_type": "markdown",
   "metadata": {},
   "source": [
    "# Four ways do replace the ChainID in a PDB file in Python\n",
    "\n",
    "The chain ID is character 22 of ATOM and HETATM lines in a PDB file.\n",
    "We must make sure that we don't loose any characters and nothing shifts within a line,\n",
    "otherwise the file looses integity or atom names are interpreted wrongly (`CA` can mean C-alpha \n",
    "or Calcium depending on how it is aligned in the atom-name field)."
   ]
  },
  {
   "cell_type": "markdown",
   "metadata": {},
   "source": [
    "## Task\n",
    "\n",
    "Replace the chainID of all `ATOM` lines of chain `A`, with chainID `Z`.\n"
   ]
  },
  {
   "cell_type": "markdown",
   "metadata": {},
   "source": [
    "## 0) using sed\n",
    "```bash\n",
    "$ sed 's/^ATOM\\(.\\{17\\}\\)A/ATOM\\1Z/' 1AKI.pdb > chain_z_sed.pdb\n",
    "$ egrep -C5 \"^TER\" chain_z_sed.pdb\n",
    "ATOM    997  CB  LEU Z 129      39.635  12.335   6.646  1.00 26.31           C  \n",
    "ATOM    998  CG  LEU Z 129      38.689  12.917   5.620  1.00 23.49           C  \n",
    "ATOM    999  CD1 LEU Z 129      39.112  12.657   4.191  1.00 26.43           C  \n",
    "ATOM   1000  CD2 LEU Z 129      37.310  12.325   5.886  1.00 25.15           C  \n",
    "ATOM   1001  OXT LEU Z 129      43.232  12.675   6.905  1.00 34.20           O  \n",
    "TER    1002      LEU A 129                                                      \n",
    "HETATM 1003  O   HOH A 130      23.434  40.063  -6.661  1.00 19.48           O  \n",
    "HETATM 1004  O   HOH A 131      31.994  26.416  -6.047  0.90 22.43           O  \n",
    "HETATM 1005  O   HOH A 132      30.250  13.337   9.787  0.98 20.93           O  \n",
    "HETATM 1006  O   HOH A 133      22.384  42.331  -8.165  0.90 21.85           O  \n",
    "HETATM 1007  O   HOH A 134      29.239  27.621  -3.670  1.00 17.47           O  \n",
    "```"
   ]
  },
  {
   "cell_type": "markdown",
   "metadata": {},
   "source": [
    "## 1) using string slicing"
   ]
  },
  {
   "cell_type": "code",
   "execution_count": 1,
   "metadata": {},
   "outputs": [],
   "source": [
    "with open('1AKI.pdb') as pdbfile:\n",
    "    lines = []\n",
    "    for line in pdbfile:\n",
    "        if line.startswith('ATOM') and line[21] == 'A':\n",
    "            line = line[:21] + 'Z' + line[22:]\n",
    "        lines.append(line)\n",
    "\n",
    "with open('chain_z_py1.pdb', 'w') as outfile:\n",
    "    outfile.writelines(lines)"
   ]
  },
  {
   "cell_type": "code",
   "execution_count": 2,
   "metadata": {},
   "outputs": [
    {
     "name": "stdout",
     "output_type": "stream",
     "text": [
      "ATOM    997  CB  LEU Z 129      39.635  12.335   6.646  1.00 26.31           C  \r\n",
      "ATOM    998  CG  LEU Z 129      38.689  12.917   5.620  1.00 23.49           C  \r\n",
      "ATOM    999  CD1 LEU Z 129      39.112  12.657   4.191  1.00 26.43           C  \r\n",
      "ATOM   1000  CD2 LEU Z 129      37.310  12.325   5.886  1.00 25.15           C  \r\n",
      "ATOM   1001  OXT LEU Z 129      43.232  12.675   6.905  1.00 34.20           O  \r\n",
      "TER    1002      LEU A 129                                                      \r\n",
      "HETATM 1003  O   HOH A 130      23.434  40.063  -6.661  1.00 19.48           O  \r\n",
      "HETATM 1004  O   HOH A 131      31.994  26.416  -6.047  0.90 22.43           O  \r\n",
      "HETATM 1005  O   HOH A 132      30.250  13.337   9.787  0.98 20.93           O  \r\n",
      "HETATM 1006  O   HOH A 133      22.384  42.331  -8.165  0.90 21.85           O  \r\n",
      "HETATM 1007  O   HOH A 134      29.239  27.621  -3.670  1.00 17.47           O  \r\n"
     ]
    }
   ],
   "source": [
    "!egrep -C5 \"^TER\" chain_z_py1.pdb"
   ]
  },
  {
   "cell_type": "markdown",
   "metadata": {},
   "source": [
    "## 2) using Python regular expresssions"
   ]
  },
  {
   "cell_type": "code",
   "execution_count": 3,
   "metadata": {},
   "outputs": [],
   "source": [
    "import re\n",
    "with open('1AKI.pdb') as pdbfile:\n",
    "    lines = []\n",
    "    for line in pdbfile:\n",
    "        line = re.sub(r'^ATOM(.{17})A', r'ATOM\\1Z', line)\n",
    "        lines.append(line)\n",
    "\n",
    "with open('chain_z_py2.pdb', 'w') as outfile:\n",
    "    outfile.writelines(lines)"
   ]
  },
  {
   "cell_type": "code",
   "execution_count": 4,
   "metadata": {},
   "outputs": [
    {
     "name": "stdout",
     "output_type": "stream",
     "text": [
      "ATOM    997  CB  LEU Z 129      39.635  12.335   6.646  1.00 26.31           C  \r\n",
      "ATOM    998  CG  LEU Z 129      38.689  12.917   5.620  1.00 23.49           C  \r\n",
      "ATOM    999  CD1 LEU Z 129      39.112  12.657   4.191  1.00 26.43           C  \r\n",
      "ATOM   1000  CD2 LEU Z 129      37.310  12.325   5.886  1.00 25.15           C  \r\n",
      "ATOM   1001  OXT LEU Z 129      43.232  12.675   6.905  1.00 34.20           O  \r\n",
      "TER    1002      LEU A 129                                                      \r\n",
      "HETATM 1003  O   HOH A 130      23.434  40.063  -6.661  1.00 19.48           O  \r\n",
      "HETATM 1004  O   HOH A 131      31.994  26.416  -6.047  0.90 22.43           O  \r\n",
      "HETATM 1005  O   HOH A 132      30.250  13.337   9.787  0.98 20.93           O  \r\n",
      "HETATM 1006  O   HOH A 133      22.384  42.331  -8.165  0.90 21.85           O  \r\n",
      "HETATM 1007  O   HOH A 134      29.239  27.621  -3.670  1.00 17.47           O  \r\n"
     ]
    }
   ],
   "source": [
    "!egrep -C5 \"^TER\" chain_z_py2.pdb"
   ]
  },
  {
   "cell_type": "markdown",
   "metadata": {},
   "source": [
    "## 3) using MDAnalysis\n",
    "https://www.mdanalysis.org/"
   ]
  },
  {
   "cell_type": "code",
   "execution_count": 5,
   "metadata": {},
   "outputs": [],
   "source": [
    "import MDAnalysis as mda\n",
    "\n",
    "# Read Universe from PDB\n",
    "u = mda.Universe('1AKI.pdb')"
   ]
  },
  {
   "cell_type": "code",
   "execution_count": 6,
   "metadata": {},
   "outputs": [
    {
     "name": "stdout",
     "output_type": "stream",
     "text": [
      "<Universe with 1079 atoms>\n",
      "<ResidueGroup [<Residue LYS, 1>, <Residue VAL, 2>, <Residue PHE, 3>, ..., <Residue HOH, 205>, <Residue HOH, 206>, <Residue HOH, 207>]>\n",
      "<SegmentGroup [<Segment A>]>\n"
     ]
    }
   ],
   "source": [
    "# explore the Universe object\n",
    "print(u)\n",
    "print(u.residues)\n",
    "print(u.segments)"
   ]
  },
  {
   "cell_type": "code",
   "execution_count": 7,
   "metadata": {},
   "outputs": [
    {
     "name": "stdout",
     "output_type": "stream",
     "text": [
      "before:   segindex: 0  segid: A\n",
      "after:    segindex: 0  segid: Z\n",
      "\n"
     ]
    }
   ],
   "source": [
    "# loop over segments (chains)\n",
    "for seg in u.segments:\n",
    "    print(\"before:   segindex: {}  segid: {}\".format(seg.segindex, seg.segid))\n",
    "\n",
    "    # assign chainID to current segment\n",
    "    seg.segid = 'Z'\n",
    "    \n",
    "    print(\"after:    segindex: {}  segid: {}\\n\".format(seg.segindex, seg.segid))\n"
   ]
  },
  {
   "cell_type": "code",
   "execution_count": 8,
   "metadata": {},
   "outputs": [],
   "source": [
    "# export fixed structure to PDB file\n",
    "u.atoms.write(\"chain_z_mda.pdb\")"
   ]
  },
  {
   "cell_type": "markdown",
   "metadata": {},
   "source": [
    "## 4) using PDB module in Biopython\n",
    "\n",
    "http://biopython.org/DIST/docs/tutorial/Tutorial.html#htoc150"
   ]
  },
  {
   "cell_type": "code",
   "execution_count": 1,
   "metadata": {},
   "outputs": [],
   "source": [
    "from Bio import PDB\n",
    "\n",
    "# Read structure from PDB\n",
    "parser = PDB.PDBParser()\n",
    "structure = parser.get_structure('1aki', '1AKI.pdb')"
   ]
  },
  {
   "cell_type": "code",
   "execution_count": 2,
   "metadata": {},
   "outputs": [
    {
     "name": "stdout",
     "output_type": "stream",
     "text": [
      "<Structure id=1aki>\n",
      "<Chain id=A>\n",
      "A\n"
     ]
    }
   ],
   "source": [
    "# explore the chains:\n",
    "print(structure)\n",
    "for chain in structure.get_chains():\n",
    "    print(chain)\n",
    "    print(chain.id)"
   ]
  },
  {
   "cell_type": "code",
   "execution_count": 3,
   "metadata": {},
   "outputs": [],
   "source": [
    "for chain in structure.get_chains():\n",
    "    # set chain-ID to 'Z'\n",
    "    chain.id = 'Z'"
   ]
  },
  {
   "cell_type": "code",
   "execution_count": 4,
   "metadata": {},
   "outputs": [],
   "source": [
    "# export fixed structure to PDB file\n",
    "io = PDB.PDBIO()\n",
    "io.set_structure(structure)\n",
    "io.save('chain_z_biopython.pdb')"
   ]
  },
  {
   "cell_type": "code",
   "execution_count": null,
   "metadata": {},
   "outputs": [],
   "source": []
  }
 ],
 "metadata": {
  "kernelspec": {
   "display_name": "Python 3.7 MDAnalysis (mda)",
   "language": "python",
   "name": "mda"
  },
  "language_info": {
   "codemirror_mode": {
    "name": "ipython",
    "version": 3
   },
   "file_extension": ".py",
   "mimetype": "text/x-python",
   "name": "python",
   "nbconvert_exporter": "python",
   "pygments_lexer": "ipython3",
   "version": "3.7.3"
  }
 },
 "nbformat": 4,
 "nbformat_minor": 4
}
